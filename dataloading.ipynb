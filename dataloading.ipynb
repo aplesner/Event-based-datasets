{
 "cells": [
  {
   "cell_type": "code",
   "execution_count": 5,
   "id": "cd21091b",
   "metadata": {},
   "outputs": [],
   "source": [
    "import tonic\n",
    "import matplotlib.pyplot as plt\n",
    "import numpy as np\n",
    "import pandas as pd\n",
    "from tqdm import tqdm\n",
    "\n",
    "from src.constants import Datasets\n",
    "from src.data_loading import load_sample, load_dataset\n",
    "from src import push_to_hf"
   ]
  },
  {
   "cell_type": "code",
   "execution_count": 2,
   "id": "790adce7",
   "metadata": {},
   "outputs": [],
   "source": [
    "data_dir = \"datasets/\""
   ]
  },
  {
   "cell_type": "code",
   "execution_count": 3,
   "id": "e83c1c50",
   "metadata": {},
   "outputs": [],
   "source": [
    "asl_sample = load_sample(Datasets.ASL, 0, data_dir)\n",
    "cifar10dvs_sample = load_sample(Datasets.CIFAR10DVS, 0, data_dir)\n",
    "dvsgesture_sample = load_sample(Datasets.DVSGesture, 0, data_dir)\n",
    "dvslip_sample = load_sample(Datasets.DVSLip, 0, data_dir)\n",
    "ncaltech101_sample = load_sample(Datasets.NCALTECH101, 0, data_dir)\n",
    "nmnist_sample = load_sample(Datasets.NMNIST, 0, data_dir)\n",
    "poker_sample = load_sample(Datasets.POKERDVS, 2, data_dir)"
   ]
  },
  {
   "cell_type": "code",
   "execution_count": 4,
   "id": "39b0551a",
   "metadata": {},
   "outputs": [
    {
     "name": "stderr",
     "output_type": "stream",
     "text": [
      "Loading N-Caltech101 dataset: 100%|██████████| 8709/8709 [00:19<00:00, 447.95it/s]\n"
     ]
    }
   ],
   "source": [
    "ncaltech101_dataset = load_dataset(Datasets.NCALTECH101, data_dir, cython=True)"
   ]
  },
  {
   "cell_type": "code",
   "execution_count": null,
   "id": "b184b0e4",
   "metadata": {},
   "outputs": [
    {
     "name": "stdout",
     "output_type": "stream",
     "text": [
      "Converting 8709 samples...\n"
     ]
    }
   ],
   "source": [
    "push_to_hf.push_to_huggingface(\n",
    "    samples=ncaltech101_dataset,\n",
    "    repo_id=\"aplesner/N-Caltech101-dataset\",\n",
    "    description=\"N-Caltech101 event-based dataset loaded and processed with custom data loading scripts. Not affiliated with the original creators. \",\n",
    "    private=True,   \n",
    ")"
   ]
  },
  {
   "cell_type": "code",
   "execution_count": 23,
   "id": "ffb5ba5d",
   "metadata": {},
   "outputs": [
    {
     "name": "stderr",
     "output_type": "stream",
     "text": [
      "Loading DVS-Lip dataset:   2%|▏         | 462/19871 [00:07<05:06, 63.25it/s] \n"
     ]
    },
    {
     "ename": "KeyboardInterrupt",
     "evalue": "",
     "output_type": "error",
     "traceback": [
      "\u001b[31m---------------------------------------------------------------------------\u001b[39m",
      "\u001b[31mKeyboardInterrupt\u001b[39m                         Traceback (most recent call last)",
      "\u001b[36mCell\u001b[39m\u001b[36m \u001b[39m\u001b[32mIn[23]\u001b[39m\u001b[32m, line 1\u001b[39m\n\u001b[32m----> \u001b[39m\u001b[32m1\u001b[39m dvslip_dataset = \u001b[43mload_dataset\u001b[49m\u001b[43m(\u001b[49m\u001b[43mDatasets\u001b[49m\u001b[43m.\u001b[49m\u001b[43mDVSLip\u001b[49m\u001b[43m,\u001b[49m\u001b[43m \u001b[49m\u001b[43mdata_dir\u001b[49m\u001b[43m,\u001b[49m\u001b[43m \u001b[49m\u001b[43mcython\u001b[49m\u001b[43m=\u001b[49m\u001b[38;5;28;43;01mTrue\u001b[39;49;00m\u001b[43m)\u001b[49m\n",
      "\u001b[36mCell\u001b[39m\u001b[36m \u001b[39m\u001b[32mIn[22]\u001b[39m\u001b[32m, line 78\u001b[39m, in \u001b[36mload_dataset\u001b[39m\u001b[34m(dataset, data_dir, cython)\u001b[39m\n\u001b[32m     76\u001b[39m         files.extend([(os.path.join(dvslip_path, file), split, class_name) \u001b[38;5;28;01mfor\u001b[39;00m file \u001b[38;5;129;01min\u001b[39;00m \u001b[38;5;28msorted\u001b[39m(os.listdir(dvslip_path))])\n\u001b[32m     77\u001b[39m \u001b[38;5;28;01mfor\u001b[39;00m file, split, class_name \u001b[38;5;129;01min\u001b[39;00m tqdm(files, desc=\u001b[33m\"\u001b[39m\u001b[33mLoading DVS-Lip dataset\u001b[39m\u001b[33m\"\u001b[39m):\n\u001b[32m---> \u001b[39m\u001b[32m78\u001b[39m     data = load_npy(file) \u001b[38;5;28;01mif\u001b[39;00m \u001b[38;5;129;01mnot\u001b[39;00m cython \u001b[38;5;28;01melse\u001b[39;00m \u001b[43mcython_load_npy\u001b[49m\u001b[43m(\u001b[49m\u001b[43mfile\u001b[49m\u001b[43m)\u001b[49m\n\u001b[32m     79\u001b[39m     label = class_name\n\u001b[32m     80\u001b[39m     samples.append({\u001b[33m'\u001b[39m\u001b[33mdata\u001b[39m\u001b[33m'\u001b[39m: data, \u001b[33m'\u001b[39m\u001b[33mlabel\u001b[39m\u001b[33m'\u001b[39m: label, \u001b[33m'\u001b[39m\u001b[33mmetadata\u001b[39m\u001b[33m'\u001b[39m: {\u001b[33m'\u001b[39m\u001b[33msplit\u001b[39m\u001b[33m'\u001b[39m: split}})\n",
      "\u001b[31mKeyboardInterrupt\u001b[39m: "
     ]
    }
   ],
   "source": [
    "dvslip_dataset = load_dataset(Datasets.DVSLip, data_dir, cython=True)"
   ]
  },
  {
   "cell_type": "code",
   "execution_count": 20,
   "id": "3e74ea30",
   "metadata": {},
   "outputs": [
    {
     "name": "stderr",
     "output_type": "stream",
     "text": [
      "Loading DVS-Gesture dataset: 100%|██████████| 122/122 [00:49<00:00,  2.48it/s]\n"
     ]
    }
   ],
   "source": [
    "dvsgesture_dataset = load_dataset(Datasets.DVSGesture, data_dir, cython=True)"
   ]
  },
  {
   "cell_type": "code",
   "execution_count": 11,
   "id": "547ec371",
   "metadata": {},
   "outputs": [
    {
     "name": "stderr",
     "output_type": "stream",
     "text": [
      "Loading CIFAR10-DVS dataset:   0%|          | 0/10000 [00:00<?, ?it/s]"
     ]
    },
    {
     "name": "stderr",
     "output_type": "stream",
     "text": [
      "Loading CIFAR10-DVS dataset: 100%|██████████| 10000/10000 [00:38<00:00, 257.07it/s]\n"
     ]
    }
   ],
   "source": [
    "cifar10dvs_dataset = load_dataset(Datasets.CIFAR10DVS, data_dir, cython=True)"
   ]
  },
  {
   "cell_type": "code",
   "execution_count": 25,
   "id": "79addb8c",
   "metadata": {},
   "outputs": [
    {
     "name": "stderr",
     "output_type": "stream",
     "text": [
      "Loading ASL dataset: 100%|██████████| 125/125 [01:02<00:00,  2.01it/s]\n"
     ]
    }
   ],
   "source": [
    "asl_dataset = load_dataset(Datasets.ASL, data_dir, cython=True)"
   ]
  },
  {
   "cell_type": "code",
   "execution_count": 31,
   "id": "0faf1c28",
   "metadata": {},
   "outputs": [
    {
     "name": "stderr",
     "output_type": "stream",
     "text": [
      "Loading Poker-DVS dataset: 100%|██████████| 131/131 [00:00<00:00, 3548.23it/s]\n"
     ]
    }
   ],
   "source": [
    "pokerdvs_dataset = load_dataset(Datasets.POKERDVS, data_dir, cython=True)"
   ]
  },
  {
   "cell_type": "code",
   "execution_count": 36,
   "id": "150abfbf",
   "metadata": {},
   "outputs": [
    {
     "name": "stderr",
     "output_type": "stream",
     "text": [
      "Loading N-MNIST dataset: 100%|██████████| 70000/70000 [00:17<00:00, 4056.23it/s]\n"
     ]
    }
   ],
   "source": [
    "nmnist_dataset = load_dataset(Datasets.NMNIST, data_dir, cython=True)"
   ]
  },
  {
   "cell_type": "code",
   "execution_count": 21,
   "id": "55f8b5cf",
   "metadata": {},
   "outputs": [
    {
     "data": {
      "text/plain": [
       "[{'data': {'x': array([448, 896,  32, ..., 864, 416, 576], shape=(106357,), dtype=int16),\n",
       "   'y': array([2, 1, 1, ..., 0, 1, 2], shape=(106357,), dtype=int16),\n",
       "   'timestamp': array([80056386, 80056456, 80056490, ..., 85086343, 85086355, 85086387],\n",
       "         shape=(106357,), dtype=uint32),\n",
       "   'polarity': array([False, False, False, ..., False, False, False], shape=(106357,))},\n",
       "  'label': np.int64(1),\n",
       "  'metadata': {'user': 'user01', 'lighting': 'fluorescent', 'split': 'train'}},\n",
       " {'data': {'x': array([128,  64,  32, ..., 128, 704,  96], shape=(157711,), dtype=int16),\n",
       "   'y': array([1, 1, 2, ..., 1, 0, 3], shape=(157711,), dtype=int16),\n",
       "   'timestamp': array([89436391, 89436401, 89436410, ..., 95226247, 95226270, 95226447],\n",
       "         shape=(157711,), dtype=uint32),\n",
       "   'polarity': array([False, False, False, ..., False, False, False], shape=(157711,))},\n",
       "  'label': np.int64(2),\n",
       "  'metadata': {'user': 'user01', 'lighting': 'fluorescent', 'split': 'train'}},\n",
       " {'data': {'x': array([896, 288, 512, ..., 448, 384, 448], shape=(259673,), dtype=int16),\n",
       "   'y': array([1, 3, 1, ..., 3, 3, 3], shape=(259673,), dtype=int16),\n",
       "   'timestamp': array([ 95938863,  95938869,  95938888, ..., 103200035, 103200057,\n",
       "          103200061], shape=(259673,), dtype=uint32),\n",
       "   'polarity': array([False, False, False, ..., False, False, False], shape=(259673,))},\n",
       "  'label': np.int64(3),\n",
       "  'metadata': {'user': 'user01', 'lighting': 'fluorescent', 'split': 'train'}},\n",
       " {'data': {'x': array([ 96, 608, 832, ..., 800, 416, 416], shape=(464284,), dtype=int16),\n",
       "   'y': array([2, 0, 1, ..., 3, 1, 2], shape=(464284,), dtype=int16),\n",
       "   'timestamp': array([114845420, 114845423, 114845426, ..., 123499479, 123499480,\n",
       "          123499496], shape=(464284,), dtype=uint32),\n",
       "   'polarity': array([False, False, False, ..., False, False, False], shape=(464284,))},\n",
       "  'label': np.int64(4),\n",
       "  'metadata': {'user': 'user01', 'lighting': 'fluorescent', 'split': 'train'}},\n",
       " {'data': {'x': array([448, 768, 448, ..., 512,   0, 928], shape=(430029,), dtype=int16),\n",
       "   'y': array([2, 1, 1, ..., 1, 1, 0], shape=(430029,), dtype=int16),\n",
       "   'timestamp': array([124344371, 124344375, 124344388, ..., 131742568, 131742569,\n",
       "          131742575], shape=(430029,), dtype=uint32),\n",
       "   'polarity': array([False, False, False, ..., False, False, False], shape=(430029,))},\n",
       "  'label': np.int64(5),\n",
       "  'metadata': {'user': 'user01', 'lighting': 'fluorescent', 'split': 'train'}},\n",
       " {'data': {'x': array([736, 800, 928, ...,  64, 800,  96], shape=(393984,), dtype=int16),\n",
       "   'y': array([3, 3, 3, ..., 2, 2, 2], shape=(393984,), dtype=int16),\n",
       "   'timestamp': array([133660643, 133660664, 133660671, ..., 141880831, 141880853,\n",
       "          141880875], shape=(393984,), dtype=uint32),\n",
       "   'polarity': array([False, False, False, ..., False, False, False], shape=(393984,))},\n",
       "  'label': np.int64(6),\n",
       "  'metadata': {'user': 'user01', 'lighting': 'fluorescent', 'split': 'train'}},\n",
       " {'data': {'x': array([ 32, 352, 832, ..., 864, 832, 736], shape=(344585,), dtype=int16),\n",
       "   'y': array([2, 0, 2, ..., 2, 2, 1], shape=(344585,), dtype=int16),\n",
       "   'timestamp': array([142360403, 142360474, 142360478, ..., 149138165, 149138189,\n",
       "          149138204], shape=(344585,), dtype=uint32),\n",
       "   'polarity': array([False, False, False, ..., False, False, False], shape=(344585,))},\n",
       "  'label': np.int64(7),\n",
       "  'metadata': {'user': 'user01', 'lighting': 'fluorescent', 'split': 'train'}},\n",
       " {'data': {'x': array([ 96,  96, 448, ...,  96, 192,  96], shape=(220539,), dtype=int16),\n",
       "   'y': array([2, 2, 1, ..., 2, 2, 0], shape=(220539,), dtype=int16),\n",
       "   'timestamp': array([150717649, 150717650, 150717651, ..., 157362286, 157362287,\n",
       "          157362309], shape=(220539,), dtype=uint32),\n",
       "   'polarity': array([False, False, False, ..., False, False, False], shape=(220539,))},\n",
       "  'label': np.int64(8),\n",
       "  'metadata': {'user': 'user01', 'lighting': 'fluorescent', 'split': 'train'}},\n",
       " {'data': {'x': array([128, 672,  64, ..., 384, 160, 992], shape=(232865,), dtype=int16),\n",
       "   'y': array([2, 0, 2, ..., 2, 2, 1], shape=(232865,), dtype=int16),\n",
       "   'timestamp': array([157776420, 157776431, 157776448, ..., 164026380, 164026380,\n",
       "          164026385], shape=(232865,), dtype=uint32),\n",
       "   'polarity': array([False, False, False, ..., False, False, False], shape=(232865,))},\n",
       "  'label': np.int64(8),\n",
       "  'metadata': {'user': 'user01', 'lighting': 'fluorescent', 'split': 'train'}},\n",
       " {'data': {'x': array([ 32, 608, 224, ..., 320, 608, 480], shape=(260354,), dtype=int16),\n",
       "   'y': array([3, 3, 2, ..., 2, 2, 2], shape=(260354,), dtype=int16),\n",
       "   'timestamp': array([165057419, 165057420, 165057436, ..., 171518144, 171518175,\n",
       "          171518214], shape=(260354,), dtype=uint32),\n",
       "   'polarity': array([False, False, False, ..., False, False, False], shape=(260354,))},\n",
       "  'label': np.int64(9),\n",
       "  'metadata': {'user': 'user01', 'lighting': 'fluorescent', 'split': 'train'}},\n",
       " {'data': {'x': array([704, 864, 672, ..., 128, 704, 704], shape=(167374,), dtype=int16),\n",
       "   'y': array([1, 1, 1, ..., 1, 3, 3], shape=(167374,), dtype=int16),\n",
       "   'timestamp': array([172843814, 172843824, 172843829, ..., 179442748, 179442763,\n",
       "          179442789], shape=(167374,), dtype=uint32),\n",
       "   'polarity': array([False, False, False, ..., False, False, False], shape=(167374,))},\n",
       "  'label': np.int64(10),\n",
       "  'metadata': {'user': 'user01', 'lighting': 'fluorescent', 'split': 'train'}},\n",
       " {'data': {'x': array([864, 128, 352, ..., 672, 576, 768], shape=(324311,), dtype=int16),\n",
       "   'y': array([2, 3, 1, ..., 1, 0, 2], shape=(324311,), dtype=int16),\n",
       "   'timestamp': array([180676396, 180676420, 180676453, ..., 187386334, 187386339,\n",
       "          187386394], shape=(324311,), dtype=uint32),\n",
       "   'polarity': array([False, False, False, ..., False, False, False], shape=(324311,))},\n",
       "  'label': np.int64(11),\n",
       "  'metadata': {'user': 'user01', 'lighting': 'fluorescent', 'split': 'train'}},\n",
       " {'data': {'x': array([544, 832, 608, ..., 320, 480, 224], shape=(124061,), dtype=int16),\n",
       "   'y': array([1, 2, 1, ..., 2, 1, 2], shape=(124061,), dtype=int16),\n",
       "   'timestamp': array([72416453, 72416465, 72416469, ..., 77486051, 77486079, 77486388],\n",
       "         shape=(124061,), dtype=uint32),\n",
       "   'polarity': array([False, False, False, ..., False, False, False], shape=(124061,))},\n",
       "  'label': np.int64(1),\n",
       "  'metadata': {'user': 'user01',\n",
       "   'lighting': 'fluorescent_led',\n",
       "   'split': 'train'}},\n",
       " {'data': {'x': array([768, 768, 768, ...,  64, 256, 128], shape=(192226,), dtype=int16),\n",
       "   'y': array([0, 0, 0, ..., 1, 1, 1], shape=(192226,), dtype=int16),\n",
       "   'timestamp': array([78816389, 78816390, 78816391, ..., 84966329, 84966354, 84966423],\n",
       "         shape=(192226,), dtype=uint32),\n",
       "   'polarity': array([False, False, False, ..., False, False, False], shape=(192226,))},\n",
       "  'label': np.int64(2),\n",
       "  'metadata': {'user': 'user01',\n",
       "   'lighting': 'fluorescent_led',\n",
       "   'split': 'train'}},\n",
       " {'data': {'x': array([ 64,  64,  64, ..., 544, 512, 768], shape=(222293,), dtype=int16),\n",
       "   'y': array([2, 2, 2, ..., 2, 2, 2], shape=(222293,), dtype=int16),\n",
       "   'timestamp': array([86245252, 86245253, 86245253, ..., 92546367, 92546372, 92546385],\n",
       "         shape=(222293,), dtype=uint32),\n",
       "   'polarity': array([False, False, False, ..., False, False, False], shape=(222293,))},\n",
       "  'label': np.int64(3),\n",
       "  'metadata': {'user': 'user01',\n",
       "   'lighting': 'fluorescent_led',\n",
       "   'split': 'train'}}]"
      ]
     },
     "execution_count": 21,
     "metadata": {},
     "output_type": "execute_result"
    }
   ],
   "source": [
    "dvsgesture_dataset[0:15]"
   ]
  },
  {
   "cell_type": "code",
   "execution_count": 27,
   "id": "2d5b0f49",
   "metadata": {},
   "outputs": [
    {
     "data": {
      "text/plain": [
       "'3.6.0'"
      ]
     },
     "execution_count": 27,
     "metadata": {},
     "output_type": "execute_result"
    }
   ],
   "source": []
  }
 ],
 "metadata": {
  "kernelspec": {
   "display_name": "Python 3",
   "language": "python",
   "name": "python3"
  },
  "language_info": {
   "codemirror_mode": {
    "name": "ipython",
    "version": 3
   },
   "file_extension": ".py",
   "mimetype": "text/x-python",
   "name": "python",
   "nbconvert_exporter": "python",
   "pygments_lexer": "ipython3",
   "version": "3.12.3"
  }
 },
 "nbformat": 4,
 "nbformat_minor": 5
}
